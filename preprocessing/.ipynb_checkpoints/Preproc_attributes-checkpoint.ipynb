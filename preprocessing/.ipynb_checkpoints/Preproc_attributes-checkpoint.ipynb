{
 "cells": [
  {
   "cell_type": "code",
   "execution_count": null,
   "metadata": {},
   "outputs": [],
   "source": [
    "# In this notebook we preprocess the attributes.csv and finally we save the preprocessed file as df_attrs_prep.pkl\n",
    "# Finally we save a final preprocessed file that will be used in the feature engineering : df_attrs_prep.pkl"
   ]
  },
  {
   "cell_type": "code",
   "execution_count": 1,
   "metadata": {},
   "outputs": [],
   "source": [
    "import pandas as pd\n",
    "\n",
    "# print non truncated column info in pandas dataframe\n",
    "pd.set_option('display.max_colwidth', -1)\n",
    "pd.set_option('display.max_columns', 500)"
   ]
  },
  {
   "cell_type": "code",
   "execution_count": 2,
   "metadata": {},
   "outputs": [],
   "source": [
    "from nltk.tokenize import RegexpTokenizer\n",
    "\n",
    "from nltk.corpus import stopwords\n",
    "\n",
    "from nltk.stem.porter import *"
   ]
  },
  {
   "cell_type": "markdown",
   "metadata": {},
   "source": [
    "## - Preprocess attributes.csv"
   ]
  },
  {
   "cell_type": "code",
   "execution_count": 3,
   "metadata": {},
   "outputs": [],
   "source": [
    "# read the the file with the product descriptions\n",
    "df_attrs = pd.read_csv(r'C:\\Users\\Dimos\\Desktop\\MSc\\Semester 4\\NLP\\Coursework\\data\\attributes.csv', encoding='latin-1')\n",
    "# read the trainset\n",
    "df_train = pd.read_csv(r'C:\\Users\\Dimos\\Desktop\\MSc\\Semester 4\\NLP\\Coursework\\data\\train.csv', encoding='latin-1')"
   ]
  },
  {
   "cell_type": "code",
   "execution_count": 4,
   "metadata": {},
   "outputs": [
    {
     "data": {
      "text/html": [
       "<div>\n",
       "<style>\n",
       "    .dataframe thead tr:only-child th {\n",
       "        text-align: right;\n",
       "    }\n",
       "\n",
       "    .dataframe thead th {\n",
       "        text-align: left;\n",
       "    }\n",
       "\n",
       "    .dataframe tbody tr th {\n",
       "        vertical-align: top;\n",
       "    }\n",
       "</style>\n",
       "<table border=\"1\" class=\"dataframe\">\n",
       "  <thead>\n",
       "    <tr style=\"text-align: right;\">\n",
       "      <th></th>\n",
       "      <th>product_uid</th>\n",
       "      <th>name</th>\n",
       "      <th>value</th>\n",
       "    </tr>\n",
       "  </thead>\n",
       "  <tbody>\n",
       "    <tr>\n",
       "      <th>0</th>\n",
       "      <td>100001.0</td>\n",
       "      <td>Bullet01</td>\n",
       "      <td>Versatile connector for various 90Â° connections and home repair projects</td>\n",
       "    </tr>\n",
       "    <tr>\n",
       "      <th>1</th>\n",
       "      <td>100001.0</td>\n",
       "      <td>Bullet02</td>\n",
       "      <td>Stronger than angled nailing or screw fastening alone</td>\n",
       "    </tr>\n",
       "    <tr>\n",
       "      <th>2</th>\n",
       "      <td>100001.0</td>\n",
       "      <td>Bullet03</td>\n",
       "      <td>Help ensure joints are consistently straight and strong</td>\n",
       "    </tr>\n",
       "    <tr>\n",
       "      <th>3</th>\n",
       "      <td>100001.0</td>\n",
       "      <td>Bullet04</td>\n",
       "      <td>Dimensions: 3 in. x 3 in. x 1-1/2 in.</td>\n",
       "    </tr>\n",
       "    <tr>\n",
       "      <th>4</th>\n",
       "      <td>100001.0</td>\n",
       "      <td>Bullet05</td>\n",
       "      <td>Made from 12-Gauge steel</td>\n",
       "    </tr>\n",
       "  </tbody>\n",
       "</table>\n",
       "</div>"
      ],
      "text/plain": [
       "   product_uid      name  \\\n",
       "0  100001.0     Bullet01   \n",
       "1  100001.0     Bullet02   \n",
       "2  100001.0     Bullet03   \n",
       "3  100001.0     Bullet04   \n",
       "4  100001.0     Bullet05   \n",
       "\n",
       "                                                                       value  \n",
       "0  Versatile connector for various 90Â° connections and home repair projects  \n",
       "1  Stronger than angled nailing or screw fastening alone                      \n",
       "2  Help ensure joints are consistently straight and strong                    \n",
       "3  Dimensions: 3 in. x 3 in. x 1-1/2 in.                                      \n",
       "4  Made from 12-Gauge steel                                                   "
      ]
     },
     "execution_count": 4,
     "metadata": {},
     "output_type": "execute_result"
    }
   ],
   "source": [
    "df_attrs.head()"
   ]
  },
  {
   "cell_type": "code",
   "execution_count": 5,
   "metadata": {},
   "outputs": [],
   "source": [
    "# keep only products that appear in the trainset\n",
    "df_attrs = df_attrs[df_attrs.product_uid.isin(df_train.product_uid.unique())]"
   ]
  },
  {
   "cell_type": "code",
   "execution_count": 6,
   "metadata": {},
   "outputs": [
    {
     "data": {
      "text/plain": [
       "(932000, 3)"
      ]
     },
     "execution_count": 6,
     "metadata": {},
     "output_type": "execute_result"
    }
   ],
   "source": [
    "df_attrs.shape"
   ]
  },
  {
   "cell_type": "code",
   "execution_count": 7,
   "metadata": {},
   "outputs": [
    {
     "data": {
      "text/plain": [
       "38404"
      ]
     },
     "execution_count": 7,
     "metadata": {},
     "output_type": "execute_result"
    }
   ],
   "source": [
    "df_attrs.product_uid.nunique()"
   ]
  },
  {
   "cell_type": "code",
   "execution_count": 8,
   "metadata": {},
   "outputs": [
    {
     "data": {
      "text/plain": [
       "product_uid    38404 \n",
       "name           4959  \n",
       "value          173774\n",
       "dtype: int64"
      ]
     },
     "execution_count": 8,
     "metadata": {},
     "output_type": "execute_result"
    }
   ],
   "source": [
    "df_attrs.nunique()"
   ]
  },
  {
   "cell_type": "markdown",
   "metadata": {},
   "source": [
    "### -- Check the coverage of attributes"
   ]
  },
  {
   "cell_type": "markdown",
   "metadata": {},
   "source": [
    "The target is to keep only attributes that appear in almost all the products."
   ]
  },
  {
   "cell_type": "code",
   "execution_count": 9,
   "metadata": {},
   "outputs": [
    {
     "data": {
      "text/html": [
       "<div>\n",
       "<style>\n",
       "    .dataframe thead tr:only-child th {\n",
       "        text-align: right;\n",
       "    }\n",
       "\n",
       "    .dataframe thead th {\n",
       "        text-align: left;\n",
       "    }\n",
       "\n",
       "    .dataframe tbody tr th {\n",
       "        vertical-align: top;\n",
       "    }\n",
       "</style>\n",
       "<table border=\"1\" class=\"dataframe\">\n",
       "  <thead>\n",
       "    <tr style=\"text-align: right;\">\n",
       "      <th></th>\n",
       "      <th>product_uid</th>\n",
       "      <th>value</th>\n",
       "      <th>Coverage</th>\n",
       "    </tr>\n",
       "    <tr>\n",
       "      <th>name</th>\n",
       "      <th></th>\n",
       "      <th></th>\n",
       "      <th></th>\n",
       "    </tr>\n",
       "  </thead>\n",
       "  <tbody>\n",
       "    <tr>\n",
       "      <th>MFG Brand Name</th>\n",
       "      <td>38396</td>\n",
       "      <td>38380</td>\n",
       "      <td>0.999792</td>\n",
       "    </tr>\n",
       "    <tr>\n",
       "      <th>Bullet02</th>\n",
       "      <td>38394</td>\n",
       "      <td>38394</td>\n",
       "      <td>0.999740</td>\n",
       "    </tr>\n",
       "    <tr>\n",
       "      <th>Bullet03</th>\n",
       "      <td>38380</td>\n",
       "      <td>38380</td>\n",
       "      <td>0.999375</td>\n",
       "    </tr>\n",
       "    <tr>\n",
       "      <th>Bullet04</th>\n",
       "      <td>38347</td>\n",
       "      <td>38347</td>\n",
       "      <td>0.998516</td>\n",
       "    </tr>\n",
       "    <tr>\n",
       "      <th>Bullet01</th>\n",
       "      <td>38257</td>\n",
       "      <td>38257</td>\n",
       "      <td>0.996172</td>\n",
       "    </tr>\n",
       "    <tr>\n",
       "      <th>Bullet05</th>\n",
       "      <td>27741</td>\n",
       "      <td>27741</td>\n",
       "      <td>0.722347</td>\n",
       "    </tr>\n",
       "    <tr>\n",
       "      <th>Product Width (in.)</th>\n",
       "      <td>27291</td>\n",
       "      <td>27291</td>\n",
       "      <td>0.710629</td>\n",
       "    </tr>\n",
       "    <tr>\n",
       "      <th>Product Height (in.)</th>\n",
       "      <td>24639</td>\n",
       "      <td>24639</td>\n",
       "      <td>0.641574</td>\n",
       "    </tr>\n",
       "    <tr>\n",
       "      <th>Product Depth (in.)</th>\n",
       "      <td>24220</td>\n",
       "      <td>24220</td>\n",
       "      <td>0.630663</td>\n",
       "    </tr>\n",
       "    <tr>\n",
       "      <th>Bullet06</th>\n",
       "      <td>21032</td>\n",
       "      <td>21032</td>\n",
       "      <td>0.547651</td>\n",
       "    </tr>\n",
       "  </tbody>\n",
       "</table>\n",
       "</div>"
      ],
      "text/plain": [
       "                      product_uid  value  Coverage\n",
       "name                                              \n",
       "MFG Brand Name        38396        38380  0.999792\n",
       "Bullet02              38394        38394  0.999740\n",
       "Bullet03              38380        38380  0.999375\n",
       "Bullet04              38347        38347  0.998516\n",
       "Bullet01              38257        38257  0.996172\n",
       "Bullet05              27741        27741  0.722347\n",
       "Product Width (in.)   27291        27291  0.710629\n",
       "Product Height (in.)  24639        24639  0.641574\n",
       "Product Depth (in.)   24220        24220  0.630663\n",
       "Bullet06              21032        21032  0.547651"
      ]
     },
     "execution_count": 9,
     "metadata": {},
     "output_type": "execute_result"
    }
   ],
   "source": [
    "# just check the attributes that appear in many products\n",
    "df_attr_names = df_attrs.groupby('name').count().sort_values(by=['product_uid'], ascending=False)\n",
    "df_attr_names['Coverage'] = df_attr_names['product_uid']/df_attrs.product_uid.nunique()\n",
    "df_attr_names.head(10)"
   ]
  },
  {
   "cell_type": "code",
   "execution_count": 11,
   "metadata": {},
   "outputs": [
    {
     "data": {
      "text/html": [
       "<div>\n",
       "<style>\n",
       "    .dataframe thead tr:only-child th {\n",
       "        text-align: right;\n",
       "    }\n",
       "\n",
       "    .dataframe thead th {\n",
       "        text-align: left;\n",
       "    }\n",
       "\n",
       "    .dataframe tbody tr th {\n",
       "        vertical-align: top;\n",
       "    }\n",
       "</style>\n",
       "<table border=\"1\" class=\"dataframe\">\n",
       "  <thead>\n",
       "    <tr style=\"text-align: right;\">\n",
       "      <th></th>\n",
       "      <th>product_uid</th>\n",
       "      <th>value_all</th>\n",
       "    </tr>\n",
       "  </thead>\n",
       "  <tbody>\n",
       "    <tr>\n",
       "      <th>0</th>\n",
       "      <td>100001.0</td>\n",
       "      <td>[Versatile connector for various 90Â° connections and home repair projects, Stronger than angled nailing or screw fastening alone, Help ensure joints are consistently straight and strong, Dimensions: 3 in. x 3 in. x 1-1/2 in., Made from 12-Gauge steel, Galvanized for extra corrosion resistance, Install with 10d common nails or #9 x 1-1/2 in. Strong-Drive SD screws, 12, Galvanized Steel, Simpson Strong-Tie, 1, 1.5, 3, 0.26, 3]</td>\n",
       "    </tr>\n",
       "  </tbody>\n",
       "</table>\n",
       "</div>"
      ],
      "text/plain": [
       "   product_uid  \\\n",
       "0  100001.0      \n",
       "\n",
       "                                                                                                                                                                                                                                                                                                                                                                                                                                       value_all  \n",
       "0  [Versatile connector for various 90Â° connections and home repair projects, Stronger than angled nailing or screw fastening alone, Help ensure joints are consistently straight and strong, Dimensions: 3 in. x 3 in. x 1-1/2 in., Made from 12-Gauge steel, Galvanized for extra corrosion resistance, Install with 10d common nails or #9 x 1-1/2 in. Strong-Drive SD screws, 12, Galvanized Steel, Simpson Strong-Tie, 1, 1.5, 3, 0.26, 3]  "
      ]
     },
     "execution_count": 11,
     "metadata": {},
     "output_type": "execute_result"
    }
   ],
   "source": [
    "# group all attributes for each product\n",
    "df_attrs_groups = df_attrs.groupby(['product_uid'], as_index=True)['value'].apply(list).reset_index()\n",
    "df_attrs_groups.columns = ['product_uid', 'value_all']\n",
    "df_attrs_groups.head(1)"
   ]
  },
  {
   "cell_type": "code",
   "execution_count": 12,
   "metadata": {},
   "outputs": [
    {
     "data": {
      "text/html": [
       "<div>\n",
       "<style>\n",
       "    .dataframe thead tr:only-child th {\n",
       "        text-align: right;\n",
       "    }\n",
       "\n",
       "    .dataframe thead th {\n",
       "        text-align: left;\n",
       "    }\n",
       "\n",
       "    .dataframe tbody tr th {\n",
       "        vertical-align: top;\n",
       "    }\n",
       "</style>\n",
       "<table border=\"1\" class=\"dataframe\">\n",
       "  <thead>\n",
       "    <tr style=\"text-align: right;\">\n",
       "      <th></th>\n",
       "      <th>product_uid</th>\n",
       "      <th>value_5</th>\n",
       "    </tr>\n",
       "  </thead>\n",
       "  <tbody>\n",
       "    <tr>\n",
       "      <th>0</th>\n",
       "      <td>100001.0</td>\n",
       "      <td>[Versatile connector for various 90Â° connections and home repair projects, Stronger than angled nailing or screw fastening alone, Help ensure joints are consistently straight and strong, Dimensions: 3 in. x 3 in. x 1-1/2 in., Simpson Strong-Tie]</td>\n",
       "    </tr>\n",
       "  </tbody>\n",
       "</table>\n",
       "</div>"
      ],
      "text/plain": [
       "   product_uid  \\\n",
       "0  100001.0      \n",
       "\n",
       "                                                                                                                                                                                                                                                  value_5  \n",
       "0  [Versatile connector for various 90Â° connections and home repair projects, Stronger than angled nailing or screw fastening alone, Help ensure joints are consistently straight and strong, Dimensions: 3 in. x 3 in. x 1-1/2 in., Simpson Strong-Tie]  "
      ]
     },
     "execution_count": 12,
     "metadata": {},
     "output_type": "execute_result"
    }
   ],
   "source": [
    "# group the 5 important attributes for each product\n",
    "df_attrs_5 = df_attrs[df_attrs.name.isin(['MFG Brand Name', 'Bullet02', 'Bullet03', 'Bullet04', 'Bullet01'])]\n",
    "df_attrs_groups_5 = df_attrs_5.groupby(['product_uid'], as_index=True)['value'].apply(list).reset_index()\n",
    "df_attrs_groups_5.columns = ['product_uid', 'value_5']\n",
    "df_attrs_groups_5.head(1)"
   ]
  },
  {
   "cell_type": "code",
   "execution_count": 13,
   "metadata": {},
   "outputs": [],
   "source": [
    "# merge the above dataframes\n",
    "df_attrs_groups = df_attrs_groups.merge(df_attrs_groups_5, left_on='product_uid', right_on='product_uid', how='left')"
   ]
  },
  {
   "cell_type": "code",
   "execution_count": 14,
   "metadata": {},
   "outputs": [
    {
     "data": {
      "text/html": [
       "<div>\n",
       "<style>\n",
       "    .dataframe thead tr:only-child th {\n",
       "        text-align: right;\n",
       "    }\n",
       "\n",
       "    .dataframe thead th {\n",
       "        text-align: left;\n",
       "    }\n",
       "\n",
       "    .dataframe tbody tr th {\n",
       "        vertical-align: top;\n",
       "    }\n",
       "</style>\n",
       "<table border=\"1\" class=\"dataframe\">\n",
       "  <thead>\n",
       "    <tr style=\"text-align: right;\">\n",
       "      <th></th>\n",
       "      <th>product_uid</th>\n",
       "      <th>value_all</th>\n",
       "      <th>value_5</th>\n",
       "    </tr>\n",
       "  </thead>\n",
       "  <tbody>\n",
       "    <tr>\n",
       "      <th>0</th>\n",
       "      <td>100001.0</td>\n",
       "      <td>[Versatile connector for various 90Â° connections and home repair projects, Stronger than angled nailing or screw fastening alone, Help ensure joints are consistently straight and strong, Dimensions: 3 in. x 3 in. x 1-1/2 in., Made from 12-Gauge steel, Galvanized for extra corrosion resistance, Install with 10d common nails or #9 x 1-1/2 in. Strong-Drive SD screws, 12, Galvanized Steel, Simpson Strong-Tie, 1, 1.5, 3, 0.26, 3]</td>\n",
       "      <td>[Versatile connector for various 90Â° connections and home repair projects, Stronger than angled nailing or screw fastening alone, Help ensure joints are consistently straight and strong, Dimensions: 3 in. x 3 in. x 1-1/2 in., Simpson Strong-Tie]</td>\n",
       "    </tr>\n",
       "  </tbody>\n",
       "</table>\n",
       "</div>"
      ],
      "text/plain": [
       "   product_uid  \\\n",
       "0  100001.0      \n",
       "\n",
       "                                                                                                                                                                                                                                                                                                                                                                                                                                       value_all  \\\n",
       "0  [Versatile connector for various 90Â° connections and home repair projects, Stronger than angled nailing or screw fastening alone, Help ensure joints are consistently straight and strong, Dimensions: 3 in. x 3 in. x 1-1/2 in., Made from 12-Gauge steel, Galvanized for extra corrosion resistance, Install with 10d common nails or #9 x 1-1/2 in. Strong-Drive SD screws, 12, Galvanized Steel, Simpson Strong-Tie, 1, 1.5, 3, 0.26, 3]   \n",
       "\n",
       "                                                                                                                                                                                                                                                  value_5  \n",
       "0  [Versatile connector for various 90Â° connections and home repair projects, Stronger than angled nailing or screw fastening alone, Help ensure joints are consistently straight and strong, Dimensions: 3 in. x 3 in. x 1-1/2 in., Simpson Strong-Tie]  "
      ]
     },
     "execution_count": 14,
     "metadata": {},
     "output_type": "execute_result"
    }
   ],
   "source": [
    "df_attrs_groups.head(1)"
   ]
  },
  {
   "cell_type": "code",
   "execution_count": 15,
   "metadata": {},
   "outputs": [],
   "source": [
    "# merge the text of each attribute to a common text\n",
    "df_attrs_groups['Atrr_text_all'] = df_attrs_groups['value_all'].apply(lambda x: ' '.join(str(i) for i in x))\n",
    "df_attrs_groups['Atrr_text_5'] = df_attrs_groups['value_5'].apply(lambda x: ' '.join(str(i) for i in x))"
   ]
  },
  {
   "cell_type": "code",
   "execution_count": 16,
   "metadata": {},
   "outputs": [],
   "source": [
    "# convert to lower case\n",
    "df_attrs_groups['Atrr_text_all'] = df_attrs_groups['Atrr_text_all'].apply(lambda text: text.lower())\n",
    "df_attrs_groups['Atrr_text_5'] = df_attrs_groups['Atrr_text_5'].apply(lambda text: text.lower())"
   ]
  },
  {
   "cell_type": "code",
   "execution_count": 17,
   "metadata": {},
   "outputs": [],
   "source": [
    "del df_attrs_groups['value_all']\n",
    "del df_attrs_groups['value_5']"
   ]
  },
  {
   "cell_type": "code",
   "execution_count": 18,
   "metadata": {},
   "outputs": [],
   "source": [
    "# remove punctuation and tokenize\n",
    "# create a new column with the tokens\n",
    "tokenizer = RegexpTokenizer(r'\\w+')\n",
    "df_attrs_groups['Atrr_tokens'] = df_attrs_groups['Atrr_text_5'].apply(lambda text: tokenizer.tokenize(text))"
   ]
  },
  {
   "cell_type": "code",
   "execution_count": 19,
   "metadata": {},
   "outputs": [],
   "source": [
    "# remove stopwords\n",
    "stop_words = set(stopwords.words('english'))\n",
    "df_attrs_groups['Atrr_tokens_sw'] = df_attrs_groups['Atrr_tokens'].apply(lambda tokens: [i for i in tokens if i not in stop_words])"
   ]
  },
  {
   "cell_type": "code",
   "execution_count": 20,
   "metadata": {},
   "outputs": [],
   "source": [
    "# create a column wiht the tokens as text (without stopwords)\n",
    "#df_attrs_groups['Atrr_text'] = df_attrs_groups['Atrr_tokens_sw'].apply(lambda tokens: ' '.join(tokens))"
   ]
  },
  {
   "cell_type": "code",
   "execution_count": 21,
   "metadata": {},
   "outputs": [],
   "source": [
    "# stemming\n",
    "stemmer = PorterStemmer()\n",
    "df_attrs_groups['Atrr_stem'] = df_attrs_groups['Atrr_tokens_sw'].apply(lambda tokens: [stemmer.stem(token) for token in tokens])"
   ]
  },
  {
   "cell_type": "code",
   "execution_count": 22,
   "metadata": {},
   "outputs": [
    {
     "data": {
      "text/html": [
       "<div>\n",
       "<style>\n",
       "    .dataframe thead tr:only-child th {\n",
       "        text-align: right;\n",
       "    }\n",
       "\n",
       "    .dataframe thead th {\n",
       "        text-align: left;\n",
       "    }\n",
       "\n",
       "    .dataframe tbody tr th {\n",
       "        vertical-align: top;\n",
       "    }\n",
       "</style>\n",
       "<table border=\"1\" class=\"dataframe\">\n",
       "  <thead>\n",
       "    <tr style=\"text-align: right;\">\n",
       "      <th></th>\n",
       "      <th>product_uid</th>\n",
       "      <th>Atrr_text_all</th>\n",
       "      <th>Atrr_text_5</th>\n",
       "      <th>Atrr_tokens</th>\n",
       "      <th>Atrr_tokens_sw</th>\n",
       "      <th>Atrr_stem</th>\n",
       "    </tr>\n",
       "  </thead>\n",
       "  <tbody>\n",
       "    <tr>\n",
       "      <th>0</th>\n",
       "      <td>100001.0</td>\n",
       "      <td>versatile connector for various 90â° connections and home repair projects stronger than angled nailing or screw fastening alone help ensure joints are consistently straight and strong dimensions: 3 in. x 3 in. x 1-1/2 in. made from 12-gauge steel galvanized for extra corrosion resistance install with 10d common nails or #9 x 1-1/2 in. strong-drive sd screws 12 galvanized steel simpson strong-tie 1 1.5 3 0.26 3</td>\n",
       "      <td>versatile connector for various 90â° connections and home repair projects stronger than angled nailing or screw fastening alone help ensure joints are consistently straight and strong dimensions: 3 in. x 3 in. x 1-1/2 in. simpson strong-tie</td>\n",
       "      <td>[versatile, connector, for, various, 90â, connections, and, home, repair, projects, stronger, than, angled, nailing, or, screw, fastening, alone, help, ensure, joints, are, consistently, straight, and, strong, dimensions, 3, in, x, 3, in, x, 1, 1, 2, in, simpson, strong, tie]</td>\n",
       "      <td>[versatile, connector, various, 90â, connections, home, repair, projects, stronger, angled, nailing, screw, fastening, alone, help, ensure, joints, consistently, straight, strong, dimensions, 3, x, 3, x, 1, 1, 2, simpson, strong, tie]</td>\n",
       "      <td>[versatil, connector, variou, 90â, connect, home, repair, project, stronger, angl, nail, screw, fasten, alon, help, ensur, joint, consist, straight, strong, dimens, 3, x, 3, x, 1, 1, 2, simpson, strong, tie]</td>\n",
       "    </tr>\n",
       "  </tbody>\n",
       "</table>\n",
       "</div>"
      ],
      "text/plain": [
       "   product_uid  \\\n",
       "0  100001.0      \n",
       "\n",
       "                                                                                                                                                                                                                                                                                                                                                                                                                   Atrr_text_all  \\\n",
       "0  versatile connector for various 90â° connections and home repair projects stronger than angled nailing or screw fastening alone help ensure joints are consistently straight and strong dimensions: 3 in. x 3 in. x 1-1/2 in. made from 12-gauge steel galvanized for extra corrosion resistance install with 10d common nails or #9 x 1-1/2 in. strong-drive sd screws 12 galvanized steel simpson strong-tie 1 1.5 3 0.26 3   \n",
       "\n",
       "                                                                                                                                                                                                                                        Atrr_text_5  \\\n",
       "0  versatile connector for various 90â° connections and home repair projects stronger than angled nailing or screw fastening alone help ensure joints are consistently straight and strong dimensions: 3 in. x 3 in. x 1-1/2 in. simpson strong-tie   \n",
       "\n",
       "                                                                                                                                                                                                                                                                            Atrr_tokens  \\\n",
       "0  [versatile, connector, for, various, 90â, connections, and, home, repair, projects, stronger, than, angled, nailing, or, screw, fastening, alone, help, ensure, joints, are, consistently, straight, and, strong, dimensions, 3, in, x, 3, in, x, 1, 1, 2, in, simpson, strong, tie]   \n",
       "\n",
       "                                                                                                                                                                                                                               Atrr_tokens_sw  \\\n",
       "0  [versatile, connector, various, 90â, connections, home, repair, projects, stronger, angled, nailing, screw, fastening, alone, help, ensure, joints, consistently, straight, strong, dimensions, 3, x, 3, x, 1, 1, 2, simpson, strong, tie]   \n",
       "\n",
       "                                                                                                                                                                                                         Atrr_stem  \n",
       "0  [versatil, connector, variou, 90â, connect, home, repair, project, stronger, angl, nail, screw, fasten, alon, help, ensur, joint, consist, straight, strong, dimens, 3, x, 3, x, 1, 1, 2, simpson, strong, tie]  "
      ]
     },
     "execution_count": 22,
     "metadata": {},
     "output_type": "execute_result"
    }
   ],
   "source": [
    "df_attrs_groups.head(1)"
   ]
  },
  {
   "cell_type": "code",
   "execution_count": 23,
   "metadata": {},
   "outputs": [
    {
     "data": {
      "text/plain": [
       "Index(['product_uid', 'Atrr_text_all', 'Atrr_text_5', 'Atrr_tokens',\n",
       "       'Atrr_tokens_sw', 'Atrr_stem'],\n",
       "      dtype='object')"
      ]
     },
     "execution_count": 23,
     "metadata": {},
     "output_type": "execute_result"
    }
   ],
   "source": [
    "df_attrs_groups.columns"
   ]
  },
  {
   "cell_type": "code",
   "execution_count": 24,
   "metadata": {},
   "outputs": [],
   "source": [
    "df_attrs_groups2 = df_attrs_groups[['product_uid', 'Atrr_text_all', 'Atrr_stem']]"
   ]
  },
  {
   "cell_type": "code",
   "execution_count": 25,
   "metadata": {},
   "outputs": [],
   "source": [
    "df_attrs_groups2.to_pickle(r'C:\\Users\\Dimos\\Desktop\\MSc\\Semester 4\\NLP\\Coursework\\data\\preprocessed\\df_attrs_prep.pkl')"
   ]
  },
  {
   "cell_type": "code",
   "execution_count": null,
   "metadata": {},
   "outputs": [],
   "source": []
  }
 ],
 "metadata": {
  "kernelspec": {
   "display_name": "Python 3",
   "language": "python",
   "name": "python3"
  },
  "language_info": {
   "codemirror_mode": {
    "name": "ipython",
    "version": 3
   },
   "file_extension": ".py",
   "mimetype": "text/x-python",
   "name": "python",
   "nbconvert_exporter": "python",
   "pygments_lexer": "ipython3",
   "version": "3.6.3"
  }
 },
 "nbformat": 4,
 "nbformat_minor": 2
}
